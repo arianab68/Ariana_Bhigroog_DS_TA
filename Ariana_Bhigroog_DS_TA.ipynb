{
  "nbformat": 4,
  "nbformat_minor": 0,
  "metadata": {
    "colab": {
      "name": "Ariana_Bhigroog_DS_TA.ipynb",
      "provenance": [],
      "authorship_tag": "ABX9TyMdUC+x6hpSoWVPU5gs9Q+/",
      "include_colab_link": true
    },
    "kernelspec": {
      "name": "python3",
      "display_name": "Python 3"
    },
    "language_info": {
      "name": "python"
    }
  },
  "cells": [
    {
      "cell_type": "markdown",
      "metadata": {
        "id": "view-in-github",
        "colab_type": "text"
      },
      "source": [
        "<a href=\"https://colab.research.google.com/github/arianab68/Ariana_Bhigroog_DS_TA/blob/main/Ariana_Bhigroog_DS_TA.ipynb\" target=\"_parent\"><img src=\"https://colab.research.google.com/assets/colab-badge.svg\" alt=\"Open In Colab\"/></a>"
      ]
    },
    {
      "cell_type": "markdown",
      "metadata": {
        "id": "Ole3pXuEjcT1"
      },
      "source": [
        "\n",
        "\n",
        "**Exercise 1**:\n",
        "Create a function that takes two arguments (both arguments being lists) and uses them to create a dictionary. The first argument should be used for the keys and the second argument should be used as the values. Each element should match up (meaning the first element of the first argument/list should be the key while the first element of the second argument/list should be the value). If either list is missing an element that the other has, skip it."
      ]
    },
    {
      "cell_type": "code",
      "metadata": {
        "colab": {
          "base_uri": "https://localhost:8080/"
        },
        "id": "vvV1VbyKjWzu",
        "outputId": "eabff961-4785-42b0-bddb-b61f933436f2"
      },
      "source": [
        "def exercise_1(lst1, lst2):\n",
        "    return {key_a:value_b for key_a,value_b in zip(lst1,lst2)}\n",
        "\n",
        "try:\n",
        "    assert(exercise_1([],[]) == {})\n",
        "    assert(exercise_1([0,1,2],[]) == {})\n",
        "    assert(exercise_1([0,1],[0]) == {0: 0})\n",
        "    assert(exercise_1(['a', 'b', 'c'],[1,2,3]) == {'a': 1, 'b': 2, 'c': 3})\n",
        "    print(\"solution is correct\")\n",
        "except AssertionError:\n",
        "    print(\"solution is incorrect\")"
      ],
      "execution_count": 10,
      "outputs": [
        {
          "output_type": "stream",
          "text": [
            "solution is correct\n"
          ],
          "name": "stdout"
        }
      ]
    },
    {
      "cell_type": "markdown",
      "metadata": {
        "id": "oOlmvkZCjnZo"
      },
      "source": [
        "**Exercise 3**:\n",
        "Fix the following code:"
      ]
    },
    {
      "cell_type": "code",
      "metadata": {
        "colab": {
          "base_uri": "https://localhost:8080/"
        },
        "id": "Nj98rSrUjrJe",
        "outputId": "651171f6-fb72-4953-a136-b11a352dfebe"
      },
      "source": [
        "class Node:\n",
        "    def __init__(self, data=None):\n",
        "        self.data = data\n",
        "        self.previous = None\n",
        "    \n",
        "    def __repr__(self):\n",
        "        return f\"<node - {self.data}>\"\n",
        "        \n",
        "class Stack:\n",
        "    def __init__(self):\n",
        "        self.top = None\n",
        "        self.bottom = None\n",
        "        self.count = 0\n",
        "        \n",
        "    def print_items(self):\n",
        "        current_item = self.top\n",
        "        while current_item:\n",
        "            val = current_item.data\n",
        "            print(current_item)\n",
        "            current_item = current_item.previous\n",
        "            \n",
        "    def add(self, data=None):\n",
        "        node = Node(data)\n",
        "        if self.top:\n",
        "            ##################\n",
        "            # fix this part: #\n",
        "            ##################\n",
        "            \n",
        "            node.previous = self.top\n",
        "            self.top = node\n",
        "            \n",
        "            \n",
        "            ##################\n",
        "            #   end of part  #\n",
        "            ##################\n",
        "        else:\n",
        "            self.top = node\n",
        "            self.bottom = node\n",
        "        self.count += 1\n",
        "        \n",
        "    def pop(self):\n",
        "        if self.top:\n",
        "            old_top = self.top\n",
        "            self.top = old_top.previous\n",
        "            return old_top\n",
        "        else:\n",
        "            return \"empty stack\"\n",
        "\n",
        "        \n",
        "stack = Stack()\n",
        "stack.add('book1')\n",
        "stack.add('book2')\n",
        "stack.add('book3')\n",
        "stack.add('book4')\n",
        "print(\"printing count:\")\n",
        "print(stack.count)\n",
        "print(\"\\nlisting stack:\")\n",
        "stack.print_items()\n",
        "print(\"\\npopping from top of stack:\")\n",
        "print(stack.pop())\n",
        "print(\"\\nlisting remaining:\")\n",
        "stack.print_items()\n",
        "print(\"\\nprinting top of stack:\")\n",
        "print(stack.bottom)"
      ],
      "execution_count": 7,
      "outputs": [
        {
          "output_type": "stream",
          "text": [
            "printing count:\n",
            "4\n",
            "\n",
            "listing stack:\n",
            "<node - book4>\n",
            "<node - book3>\n",
            "<node - book2>\n",
            "<node - book1>\n",
            "\n",
            "popping from top of stack:\n",
            "<node - book4>\n",
            "\n",
            "listing remaining:\n",
            "<node - book3>\n",
            "<node - book2>\n",
            "<node - book1>\n",
            "\n",
            "printing top of stack:\n",
            "<node - book1>\n"
          ],
          "name": "stdout"
        }
      ]
    },
    {
      "cell_type": "markdown",
      "metadata": {
        "id": "zTWl4Cepjwi1"
      },
      "source": [
        "**Exercise 15**:\n",
        "Write a function that creates a domain name given a subdomain, a domain, a tld and a boolean for secure.\n",
        "\n",
        "Use the following arguments:\n",
        "\n",
        "domain - a string given as input\n",
        "subdomain - either a string given as input or \"www\" by default\n",
        "tld - either a  string given as input or \"com\" (as in .com) by default\n",
        "secure - boolean argument that sets \"https\" if 'secure' is true otherwise use \"http\""
      ]
    },
    {
      "cell_type": "code",
      "metadata": {
        "colab": {
          "base_uri": "https://localhost:8080/"
        },
        "id": "X7OudC14j0zg",
        "outputId": "b1be6fb9-c149-4ac0-e010-f610228e3be5"
      },
      "source": [
        "\n",
        "def make_url(domain, subdomain=\"www\", tld=\"com\", secure=True):\n",
        "    if secure:\n",
        "        protocol = \"https\"\n",
        "    else:\n",
        "        protocol = \"http\"\n",
        "    if not subdomain:\n",
        "        subdomain = \"\"\n",
        "    else:\n",
        "        subdomain += \".\"\n",
        "\n",
        "    return f\"{protocol}://{subdomain}{domain}.{tld}\"\n",
        "    \n",
        "\n",
        "try:\n",
        "    assert(make_url(\"google\") == \"https://www.google.com\")\n",
        "    assert(make_url(\"example\", subdomain=None, tld=\"com\", secure=False) == \"http://example.com\")\n",
        "    assert(make_url(\"theknowledgehouse\", tld=\"org\", secure=True) == \"https://www.theknowledgehouse.org\")\n",
        "    print(\"solution is correct\")\n",
        "except AssertionError:\n",
        "    print(\"solution is incorrect\")"
      ],
      "execution_count": 6,
      "outputs": [
        {
          "output_type": "stream",
          "text": [
            "solution is correct\n"
          ],
          "name": "stdout"
        }
      ]
    },
    {
      "cell_type": "markdown",
      "metadata": {
        "id": "yOpUU-kAj3XF"
      },
      "source": [
        "**Exercise 16**:\n",
        "Create a function that creates a n by n matrix (n rows and n columns) filled with zeros."
      ]
    },
    {
      "cell_type": "code",
      "metadata": {
        "colab": {
          "base_uri": "https://localhost:8080/"
        },
        "id": "ZTe-z3euj6Wr",
        "outputId": "6f649695-8ede-499d-ae64-70209f453d98"
      },
      "source": [
        "def exercise_16(n):\n",
        "    return [[0] * n] * n\n",
        "\n",
        "try:\n",
        "    assert(exercise_16(1) == [[0]])\n",
        "    assert(exercise_16(2) == [[0, 0], [0, 0]])\n",
        "    assert(exercise_16(3) == [[0, 0, 0], [0, 0, 0], [0, 0, 0]])\n",
        "    assert(exercise_16(4) == [[0, 0, 0, 0], [0, 0, 0, 0], [0, 0, 0, 0], [0, 0, 0, 0]])\n",
        "    print(\"solution is correct\")\n",
        "except AssertionError:\n",
        "    print(\"solution is incorrect\")"
      ],
      "execution_count": 5,
      "outputs": [
        {
          "output_type": "stream",
          "text": [
            "solution is correct\n"
          ],
          "name": "stdout"
        }
      ]
    },
    {
      "cell_type": "markdown",
      "metadata": {
        "id": "QYu2PhZTkAYg"
      },
      "source": [
        "**Exercise 19**:\n",
        "Add a method called from_full_name to the following function so that we are able to create an instance of the class by passing the a full name (string of first and last name separated by a space). Do not remove anything that already exists. Then create an instance using that method."
      ]
    },
    {
      "cell_type": "code",
      "metadata": {
        "colab": {
          "base_uri": "https://localhost:8080/"
        },
        "id": "cmNzap4ykDRU",
        "outputId": "29037891-4b77-411f-cab4-308ffa10330e"
      },
      "source": [
        "import inspect # this is necessary for checking your answer - ignore\n",
        "\n",
        "class Person:\n",
        "    def __init__(self, first_name, last_name):\n",
        "        self.first_name = first_name\n",
        "        self.last_name = last_name\n",
        "     \n",
        "    @classmethod\n",
        "    def from_full_name(cls, full_name):\n",
        "        firstn, lastn = full_name.split(' ')\n",
        "        return cls(firstn, lastn)\n",
        "        \n",
        "p = Person('A', 'P')\n",
        "\n",
        "try:\n",
        "    p = Person.from_full_name(\"A P\")\n",
        "    assert(getattr(p, 'first_name', None) == \"A\")\n",
        "    assert(getattr(p, 'last_name', None) == \"P\")\n",
        "    assert(inspect.ismethod(Person.from_full_name) and Person.from_full_name.__self__ is Person)\n",
        "    print(\"solution should be correct (not guaranteed)\")\n",
        "except AssertionError:\n",
        "    print(\"solution is incorrect\")"
      ],
      "execution_count": 4,
      "outputs": [
        {
          "output_type": "stream",
          "text": [
            "solution should be correct (not guaranteed)\n"
          ],
          "name": "stdout"
        }
      ]
    }
  ]
}